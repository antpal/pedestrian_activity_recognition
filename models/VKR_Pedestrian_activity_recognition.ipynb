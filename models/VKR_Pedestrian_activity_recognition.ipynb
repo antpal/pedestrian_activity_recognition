{
  "nbformat": 4,
  "nbformat_minor": 0,
  "metadata": {
    "colab": {
      "name": "VKR Pedestrian activity recognition.ipynb",
      "provenance": [],
      "collapsed_sections": []
    },
    "kernelspec": {
      "name": "python3",
      "display_name": "Python 3"
    },
    "language_info": {
      "name": "python"
    },
    "accelerator": "GPU"
  },
  "cells": [
    {
      "cell_type": "markdown",
      "source": [
        "### Importing"
      ],
      "metadata": {
        "id": "w4Z8PWXxoYqZ"
      }
    },
    {
      "cell_type": "code",
      "execution_count": null,
      "metadata": {
        "id": "88C9tEPinamE"
      },
      "outputs": [],
      "source": [
        "import os\n",
        "import numpy as np\n",
        "import tensorflow as tf\n",
        "\n",
        "from keras.preprocessing import sequence\n",
        "from keras.utils import np_utils\n",
        "from keras.models import Sequential\n",
        "from keras.layers.core import Dense, Dropout, Activation\n",
        "from keras.layers.embeddings import Embedding\n",
        "from keras.layers.recurrent import LSTM\n",
        "from keras.layers import TimeDistributed, GRU, Flatten, CuDNNLSTM\n",
        "from keras.callbacks import EarlyStopping, ModelCheckpoint\n",
        "from keras.models import load_model\n",
        "\n",
        "from sklearn.metrics import accuracy_score\n",
        "\n",
        "device_name = tf.test.gpu_device_name()\n",
        "if device_name != '/device:GPU:0':\n",
        "  raise SystemError('GPU device not found')\n",
        "print('Found GPU at: {}'.format(device_name))"
      ]
    },
    {
      "cell_type": "markdown",
      "source": [
        "### Getting and preparation data"
      ],
      "metadata": {
        "id": "beayhquwogsg"
      }
    },
    {
      "cell_type": "code",
      "source": [
        "!git clone https://github.com/antpal/pedestrian_activity_recognition"
      ],
      "metadata": {
        "id": "5VMV-VdFnpcd"
      },
      "execution_count": null,
      "outputs": []
    },
    {
      "cell_type": "code",
      "source": [
        "classes_dict = {'0': 'backward', '1':'forward', '2':'left', '3':'right', '4':'on_place'}\n",
        "ds_path = 'pedestrian_activity_recognition/poses/'"
      ],
      "metadata": {
        "id": "LXBMEp_Yn9ZM"
      },
      "execution_count": 3,
      "outputs": []
    },
    {
      "cell_type": "code",
      "source": [
        "def load_pose_estimation(path, filename):\n",
        "    \"\"\"\n",
        "    Retrieving pose estimation tensors from a CSV file\n",
        "    \"\"\"\n",
        "    loaded_arr = np.loadtxt(os.path.join(path, filename))\n",
        "    # This loadedArr is a 2D array, therefore we need to convert it to the original array shape.\n",
        "    # Reshaping to get original matrice with original shape.\n",
        "    loaded_original = loaded_arr.reshape(loaded_arr.shape[0], loaded_arr.shape[1] // 3, 3)\n",
        "    return loaded_original"
      ],
      "metadata": {
        "id": "8N_r8YnToNvT"
      },
      "execution_count": 4,
      "outputs": []
    },
    {
      "cell_type": "code",
      "source": [
        "def process_load_pose_estimation(path):\n",
        "  \"\"\"\n",
        "  Retrieveing pose estimation tensors from all CSV files in a folder (path)\n",
        "  \"\"\"\n",
        "  poses_array = []\n",
        "  for filename in os.listdir(path):\n",
        "    if filename.endswith(\".csv\"): \n",
        "        #print(os.path.join(path, filename))\n",
        "        poses_array.append(load_pose_estimation(path, filename))\n",
        "        continue\n",
        "    else:\n",
        "        continue\n",
        "  return poses_array"
      ],
      "metadata": {
        "id": "hlAangrBozI5"
      },
      "execution_count": 5,
      "outputs": []
    },
    {
      "cell_type": "code",
      "source": [
        "poses_train = []\n",
        "classes_train = []\n",
        "\n",
        "for c in classes_dict.items():\n",
        "  poses_train_temp = []\n",
        "  poses_train_temp = process_load_pose_estimation(ds_path + 'train/' + c[1] + '/')\n",
        "  poses_train = np.append(poses_train, poses_train_temp)\n",
        "  classes_train = np.append(classes_train, np.array([c[0]]*len(poses_train_temp)))\n",
        "\n",
        "poses_train = np.reshape(poses_train, (-1, 80, 17, 3))\n",
        "classes_train = classes_train.astype(int)"
      ],
      "metadata": {
        "id": "TcKZcjACrKOf"
      },
      "execution_count": 6,
      "outputs": []
    },
    {
      "cell_type": "code",
      "source": [
        "poses_test = []\n",
        "classes_test = []\n",
        "\n",
        "for c in classes_dict.items():\n",
        "  poses_test_temp = []\n",
        "  poses_test_temp = process_load_pose_estimation(ds_path + 'test/' + c[1] + '/')\n",
        "  poses_test = np.append(poses_test, poses_test_temp)\n",
        "  classes_test = np.append(classes_test, np.array([c[0]]*len(poses_test_temp)))\n",
        "\n",
        "poses_test = np.reshape(poses_test, (-1, 80, 17, 3))\n",
        "classes_test = classes_test.astype(int)"
      ],
      "metadata": {
        "id": "pJtNZsdNuN6E"
      },
      "execution_count": 7,
      "outputs": []
    },
    {
      "cell_type": "code",
      "source": [
        "print(poses_train.shape)\n",
        "print(classes_train.shape)\n",
        "print(poses_test.shape)\n",
        "print(classes_test.shape)"
      ],
      "metadata": {
        "id": "UxiXnrAExFD0"
      },
      "execution_count": null,
      "outputs": []
    },
    {
      "cell_type": "markdown",
      "source": [
        "### Train NN"
      ],
      "metadata": {
        "id": "sSBiNu48u-vv"
      }
    },
    {
      "cell_type": "code",
      "source": [
        "frames_count = 80\n",
        "shape = (frames_count, 17, 3)\n",
        "batch_size_model = 100\n",
        "n_epochs = 100\n",
        "optimizer = tf.keras.optimizers.Adam()\n",
        "\n",
        "es = EarlyStopping(monitor='val_loss', mode='min', verbose=5, patience=20)\n",
        "mc = ModelCheckpoint('best_model.h5', monitor='val_loss', mode='min', save_best_only=True)"
      ],
      "metadata": {
        "id": "A9ZjMQj5vRFS"
      },
      "execution_count": 10,
      "outputs": []
    },
    {
      "cell_type": "code",
      "source": [
        "model = Sequential()\n",
        "\n",
        "model.add(\n",
        "    TimeDistributed(\n",
        "        Flatten(),\n",
        "        input_shape=shape\n",
        "    )\n",
        ")\n",
        "model.add(GRU(128, return_sequences=True))\n",
        "model.add(GRU(64))\n",
        "model.add(Dropout(0.2))\n",
        "model.add(Dense(5))\n",
        "#model.add(Activation('sigmoid'))\n",
        "model.add(Activation('softmax'))\n",
        "model.compile(loss='categorical_crossentropy', optimizer=optimizer, metrics=['acc'])\n",
        "\n",
        "model.build()\n",
        "model.summary()"
      ],
      "metadata": {
        "colab": {
          "base_uri": "https://localhost:8080/"
        },
        "id": "IpT_7P6dvlOT",
        "outputId": "663bbd79-6095-469d-acf5-83956fc9332f"
      },
      "execution_count": 18,
      "outputs": [
        {
          "output_type": "stream",
          "name": "stdout",
          "text": [
            "Model: \"sequential_1\"\n",
            "_________________________________________________________________\n",
            " Layer (type)                Output Shape              Param #   \n",
            "=================================================================\n",
            " time_distributed_1 (TimeDis  (None, 80, 51)           0         \n",
            " tributed)                                                       \n",
            "                                                                 \n",
            " gru_2 (GRU)                 (None, 80, 128)           69504     \n",
            "                                                                 \n",
            " gru_3 (GRU)                 (None, 64)                37248     \n",
            "                                                                 \n",
            " dropout_1 (Dropout)         (None, 64)                0         \n",
            "                                                                 \n",
            " dense_1 (Dense)             (None, 5)                 325       \n",
            "                                                                 \n",
            " activation_1 (Activation)   (None, 5)                 0         \n",
            "                                                                 \n",
            "=================================================================\n",
            "Total params: 107,077\n",
            "Trainable params: 107,077\n",
            "Non-trainable params: 0\n",
            "_________________________________________________________________\n"
          ]
        }
      ]
    },
    {
      "cell_type": "code",
      "source": [
        "classes_train_oh = np.array(tf.one_hot(classes_train, 5))\n",
        "classes_test_oh = np.array(tf.one_hot(classes_test, 5))"
      ],
      "metadata": {
        "id": "5eZpd0pzwSQi"
      },
      "execution_count": 11,
      "outputs": []
    },
    {
      "cell_type": "code",
      "source": [
        "history = model.fit(\n",
        "    poses_train, classes_train_oh, \n",
        "    batch_size=batch_size_model, \n",
        "    epochs=n_epochs,\n",
        "    validation_data=(poses_test, classes_test_oh),\n",
        "    verbose=2,\n",
        "    #callbacks=[es, mc]\n",
        "    callbacks=[mc]\n",
        ")"
      ],
      "metadata": {
        "id": "h6Tmjl8Jwr4a"
      },
      "execution_count": null,
      "outputs": []
    },
    {
      "cell_type": "markdown",
      "source": [
        "### Inference"
      ],
      "metadata": {
        "id": "ItlBrOWu1_U0"
      }
    },
    {
      "cell_type": "code",
      "source": [
        "best_model = load_model('best_model.h5')"
      ],
      "metadata": {
        "colab": {
          "base_uri": "https://localhost:8080/"
        },
        "id": "v3lBODX-10Ig",
        "outputId": "bf055848-1345-41ac-b7d6-c7fc3c3ad324"
      },
      "execution_count": 20,
      "outputs": [
        {
          "output_type": "stream",
          "name": "stdout",
          "text": [
            "WARNING:tensorflow:Error in loading the saved optimizer state. As a result, your model is starting with a freshly initialized optimizer.\n"
          ]
        }
      ]
    },
    {
      "cell_type": "code",
      "source": [
        "poses_predict = best_model.predict(poses_test)\n",
        "poses_predict_classes=np.argmax(poses_predict, axis=-1)"
      ],
      "metadata": {
        "id": "O6wZeeku1-8x"
      },
      "execution_count": 21,
      "outputs": []
    },
    {
      "cell_type": "code",
      "source": [
        "accuracy_score(classes_test, poses_predict_classes)"
      ],
      "metadata": {
        "id": "btjvGSKM2Ggv"
      },
      "execution_count": null,
      "outputs": []
    }
  ]
}